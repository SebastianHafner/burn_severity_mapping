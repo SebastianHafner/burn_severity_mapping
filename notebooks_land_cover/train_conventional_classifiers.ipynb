{
 "cells": [
  {
   "cell_type": "code",
   "execution_count": 35,
   "metadata": {},
   "outputs": [],
   "source": [
    "import numpy as np\n",
    "import rasterio\n",
    "from pathlib import Path\n",
    "from sklearn.ensemble import RandomForestClassifier\n",
    "from sklearn.datasets import make_classification\n",
    "from sklearn.model_selection import train_test_split\n",
    "from tqdm import tqdm_notebook\n",
    "\n",
    "# reading in geotiff file as numpy array\n",
    "def read_tif(file: Path):\n",
    "\n",
    "    if not file.exists():\n",
    "        raise FileNotFoundError(f'File {file} not found')\n",
    "\n",
    "    with rasterio.open(file) as dataset:\n",
    "        arr = dataset.read()  # (bands X height X width)\n",
    "        transform = dataset.transform\n",
    "        crs = dataset.crs\n",
    "\n",
    "    return arr.transpose((1, 2, 0)), transform, crs\n",
    "\n",
    "\n",
    "# writing an array to a geo tiff file\n",
    "def write_tif(file: Path, arr, transform, crs):\n",
    "\n",
    "    if not file.parent.exists():\n",
    "        file.parent.mkdir()\n",
    "\n",
    "    height, width, bands = arr.shape\n",
    "    with rasterio.open(\n",
    "            file,\n",
    "            'w',\n",
    "            driver='GTiff',\n",
    "            height=height,\n",
    "            width=width,\n",
    "            count=bands,\n",
    "            dtype=arr.dtype,\n",
    "            crs=crs,\n",
    "            transform=transform,\n",
    "    ) as dst:\n",
    "        for i in range(bands):\n",
    "            dst.write(arr[:, :, i], i + 1)\n",
    "\n",
    "\n",
    "SEED = 7"
   ]
  },
  {
   "cell_type": "code",
   "execution_count": 39,
   "metadata": {},
   "outputs": [
    {
     "name": "stdout",
     "output_type": "stream",
     "text": [
      "(89292, 26)\n",
      "(89292, 1)\n",
      "[0 1 2 3 4 5]\n",
      "0\n"
     ]
    }
   ],
   "source": [
    "year = 2020\n",
    "nobuilding = False\n",
    "noglcm = True\n",
    "\n",
    "data_folder = Path('C:/Users/shafner/slum_extent_mapping/land_cover_classification_v3/data')\n",
    "pred_folder = f'predictions_nobuilding_{year}' if nobuilding else f'predictions_{year}'\n",
    "pred_folder = data_folder / pred_folder\n",
    "\n",
    "\n",
    "\n",
    "features_fname = f'features_Pan{year}_nobuilding.npy' if nobuilding else f'features_Pan{year}.npy'\n",
    "features_file = data_folder / features_fname\n",
    "features = np.load(str(features_file))\n",
    "if noglcm:\n",
    "    features = features[:, 0:26]\n",
    "print(features.shape)\n",
    "\n",
    "labels_fname = data_folder / f'labels_Pan{year}_nobuilding.npy' if nobuilding else f'labels_Pan{year}.npy'\n",
    "labels_file = data_folder / labels_fname\n",
    "labels = np.load(str(labels_file))\n",
    "print(labels.shape)\n",
    "\n",
    "print(np.unique(labels))\n",
    "print(np.sum(np.isnan(features)))\n",
    "\n",
    "# X_train, X_test, y_train, y_test = train_test_split(features, labels, test_size=0.2, random_state=SEED)\n",
    "rf_classifier = RandomForestClassifier(n_estimators=500, bootstrap=True, verbose=1, random_state=SEED)\n",
    "# trained_rf_classifier = rf_classifier.fit(X_train, y_train)\n",
    "# rf_score = trained_rf_classifier.score(X_test, y_test)\n",
    "# print(rf_score)"
   ]
  },
  {
   "cell_type": "code",
   "execution_count": 40,
   "metadata": {},
   "outputs": [
    {
     "name": "stderr",
     "output_type": "stream",
     "text": [
      "<ipython-input-40-bfa5b735eab7>:1: DataConversionWarning: A column-vector y was passed when a 1d array was expected. Please change the shape of y to (n_samples,), for example using ravel().\n",
      "  trained_rf_classifier = rf_classifier.fit(features, labels)\n",
      "[Parallel(n_jobs=1)]: Using backend SequentialBackend with 1 concurrent workers.\n",
      "[Parallel(n_jobs=1)]: Done 500 out of 500 | elapsed:  3.4min finished\n"
     ]
    }
   ],
   "source": [
    "trained_rf_classifier = rf_classifier.fit(features, labels)"
   ]
  },
  {
   "cell_type": "code",
   "execution_count": 41,
   "metadata": {},
   "outputs": [
    {
     "name": "stderr",
     "output_type": "stream",
     "text": [
      "<ipython-input-41-35b0ffa49fc2>:18: TqdmDeprecationWarning: This function will be removed in tqdm==5.0.0\n",
      "Please use `tqdm.notebook.tqdm` instead of `tqdm.tqdm_notebook`\n",
      "  for tile_file in tqdm_notebook(tile_files):\n"
     ]
    },
    {
     "data": {
      "application/vnd.jupyter.widget-view+json": {
       "model_id": "54305040e759451cbbf0cb41f0860277",
       "version_major": 2,
       "version_minor": 0
      },
      "text/plain": [
       "HBox(children=(HTML(value=''), FloatProgress(value=0.0, max=16.0), HTML(value='')))"
      ]
     },
     "metadata": {},
     "output_type": "display_data"
    },
    {
     "name": "stderr",
     "output_type": "stream",
     "text": [
      "[Parallel(n_jobs=1)]: Using backend SequentialBackend with 1 concurrent workers.\n",
      "[Parallel(n_jobs=1)]: Done 500 out of 500 | elapsed:  1.6min finished\n",
      "[Parallel(n_jobs=1)]: Using backend SequentialBackend with 1 concurrent workers.\n",
      "[Parallel(n_jobs=1)]: Done 500 out of 500 | elapsed:  1.8min finished\n",
      "[Parallel(n_jobs=1)]: Using backend SequentialBackend with 1 concurrent workers.\n",
      "[Parallel(n_jobs=1)]: Done 500 out of 500 | elapsed:  1.8min finished\n",
      "[Parallel(n_jobs=1)]: Using backend SequentialBackend with 1 concurrent workers.\n",
      "[Parallel(n_jobs=1)]: Done 500 out of 500 | elapsed:   28.0s finished\n",
      "[Parallel(n_jobs=1)]: Using backend SequentialBackend with 1 concurrent workers.\n",
      "[Parallel(n_jobs=1)]: Done 500 out of 500 | elapsed:  1.7min finished\n",
      "[Parallel(n_jobs=1)]: Using backend SequentialBackend with 1 concurrent workers.\n",
      "[Parallel(n_jobs=1)]: Done 500 out of 500 | elapsed:  1.7min finished\n",
      "[Parallel(n_jobs=1)]: Using backend SequentialBackend with 1 concurrent workers.\n",
      "[Parallel(n_jobs=1)]: Done 500 out of 500 | elapsed:  1.9min finished\n",
      "[Parallel(n_jobs=1)]: Using backend SequentialBackend with 1 concurrent workers.\n",
      "[Parallel(n_jobs=1)]: Done 500 out of 500 | elapsed:   29.1s finished\n",
      "[Parallel(n_jobs=1)]: Using backend SequentialBackend with 1 concurrent workers.\n",
      "[Parallel(n_jobs=1)]: Done 500 out of 500 | elapsed:  1.7min finished\n",
      "[Parallel(n_jobs=1)]: Using backend SequentialBackend with 1 concurrent workers.\n",
      "[Parallel(n_jobs=1)]: Done 500 out of 500 | elapsed:  1.7min finished\n",
      "[Parallel(n_jobs=1)]: Using backend SequentialBackend with 1 concurrent workers.\n",
      "[Parallel(n_jobs=1)]: Done 500 out of 500 | elapsed:  1.6min finished\n",
      "[Parallel(n_jobs=1)]: Using backend SequentialBackend with 1 concurrent workers.\n",
      "[Parallel(n_jobs=1)]: Done 500 out of 500 | elapsed:   29.3s finished\n",
      "[Parallel(n_jobs=1)]: Using backend SequentialBackend with 1 concurrent workers.\n",
      "[Parallel(n_jobs=1)]: Done 500 out of 500 | elapsed:   23.7s finished\n",
      "[Parallel(n_jobs=1)]: Using backend SequentialBackend with 1 concurrent workers.\n",
      "[Parallel(n_jobs=1)]: Done 500 out of 500 | elapsed:   24.1s finished\n",
      "[Parallel(n_jobs=1)]: Using backend SequentialBackend with 1 concurrent workers.\n",
      "[Parallel(n_jobs=1)]: Done 500 out of 500 | elapsed:   23.0s finished\n",
      "[Parallel(n_jobs=1)]: Using backend SequentialBackend with 1 concurrent workers.\n"
     ]
    },
    {
     "name": "stdout",
     "output_type": "stream",
     "text": [
      "\n"
     ]
    },
    {
     "name": "stderr",
     "output_type": "stream",
     "text": [
      "[Parallel(n_jobs=1)]: Done 500 out of 500 | elapsed:    8.2s finished\n"
     ]
    }
   ],
   "source": [
    "def classify_img(img_file: Path, trained_classifier):\n",
    "    img, transform, crs = read_tif(img_file)\n",
    "    if noglcm:\n",
    "        img = img[:, :, 0:26]\n",
    "    m, n, n_features = img.shape\n",
    "    img_vector = np.reshape(img, (m * n, n_features))\n",
    "    img_vector = np.nan_to_num(img_vector)\n",
    "    pred_vector = trained_classifier.predict(img_vector)\n",
    "    pred = np.reshape(pred_vector, (m, n))\n",
    "    \n",
    "    fname = f'pred_nobuilding_{img_file.stem}.tif' if nobuilding else f'pred_{img_file.stem}.tif'\n",
    "    output_file = pred_folder / fname\n",
    "    write_tif(output_file, pred[:, :, None], transform, crs)\n",
    "\n",
    "\n",
    "tiles_folder = data_folder / f'sentinel2_{year}'\n",
    "tile_files = [f for f in tiles_folder.glob('**/*')]\n",
    "for tile_file in tqdm_notebook(tile_files):\n",
    "    classify_img(tile_file, trained_rf_classifier)"
   ]
  },
  {
   "cell_type": "code",
   "execution_count": 45,
   "metadata": {},
   "outputs": [
    {
     "name": "stdout",
     "output_type": "stream",
     "text": [
      "[[0, 0], [0, 1024], [0, 2048], [0, 3072], [1024, 0], [1024, 1024], [1024, 2048], [1024, 3072], [2048, 0], [2048, 1024], [2048, 2048], [2048, 3072], [3072, 0], [3072, 1024], [3072, 2048], [3072, 3072]]\n"
     ]
    }
   ],
   "source": [
    "year = 2016\n",
    "nobuilding = False\n",
    "data_folder = Path('C:/Users/shafner/slum_extent_mapping/land_cover_classification_v3/data')\n",
    "pred_folder = f'predictions_nobuilding_{year}' if nobuilding else f'predictions_{year}'\n",
    "pred_folder = data_folder / pred_folder\n",
    "\n",
    "\n",
    "def get_coords(file: Path):\n",
    "    file_parts = file.stem.split('-')\n",
    "    coords = [int(file_parts[-2]), int(file_parts[-1])]\n",
    "    return coords\n",
    "\n",
    "\n",
    "def id2yx(patch_id: str) -> tuple:\n",
    "    y, x = patch_id.split('-')\n",
    "    return int(y), int(x)\n",
    "\n",
    "\n",
    "def combine_tif_patches(folder: Path, basename: str, delete_tiles: bool = False, dtype=np.int8):\n",
    "    files = [f for f in folder.glob('**/*')]\n",
    "    coords = [get_coords(f) for f in files]\n",
    "    print(coords)\n",
    "    i_coords = [coord[0] for coord in coords]\n",
    "    j_coords = [coord[1] for coord in coords]\n",
    "\n",
    "    max_i = max(i_coords)\n",
    "    max_j = max(j_coords)\n",
    "\n",
    "    ul_file = folder / f'{basename}-{0:010d}-{0:010d}.tif'\n",
    "    ul_arr, transform, crs = read_tif(ul_file)\n",
    "    tile_height, tile_width, n_bands = ul_arr.shape\n",
    "    assert (tile_height == tile_width)\n",
    "    tile_size = tile_height\n",
    "\n",
    "    lr_file = folder / f'{basename}-{max_i:010d}-{max_j:010d}.tif'\n",
    "    lr_arr, _, _ = read_tif(lr_file)\n",
    "    lr_height, lr_width, _ = lr_arr.shape\n",
    "\n",
    "    mosaic_height = max_i + lr_height\n",
    "    mosaic_width = max_j + lr_width\n",
    "    mosaic = np.full((mosaic_height, mosaic_width, n_bands), fill_value=-1, dtype=dtype)\n",
    "\n",
    "    for index, file in enumerate(files):\n",
    "        tile, _, _ = read_tif(file)\n",
    "        i_start, j_start = get_coords(file)\n",
    "        i_end = i_start + tile_size\n",
    "        j_end = j_start + tile_size\n",
    "        mosaic[i_start:i_end, j_start:j_end, ] = tile\n",
    "        if delete_tiles:\n",
    "            file.unlink()\n",
    "\n",
    "    output_file = folder / f'{basename}.tif'\n",
    "    write_tif(output_file, mosaic, transform, crs)\n",
    "\n",
    "output_name = f'pred_nobuilding_s2_Pan{year}' if nobuilding else f'pred_s2_Pan{year}'\n",
    "combine_tif_patches(pred_folder, output_name)\n"
   ]
  },
  {
   "cell_type": "code",
   "execution_count": 47,
   "metadata": {},
   "outputs": [
    {
     "name": "stdout",
     "output_type": "stream",
     "text": [
      "(3380, 3390, 1) (3380, 3390)\n"
     ]
    }
   ],
   "source": [
    "year = 2020\n",
    "\n",
    "pred_file = data_folder / f'predictions_nobuilding_{year}' / f'pred_nobuilding_s2_Pan{year}.tif'\n",
    "imp_file = data_folder / 'soft_rmse_adamw' / f'prob_sentinel2_{year}_soft_rmse_adamw.tif'\n",
    "\n",
    "pred, geotransform, crs = read_tif(pred_file)\n",
    "imp, _, _ = read_tif(imp_file)\n",
    "\n",
    "m, n, _ = pred.shape\n",
    "imp = imp[:m, :n, 0]\n",
    "\n",
    "THRESHOLD = 33\n",
    "\n",
    "is_impervious = np.squeeze(imp > THRESHOLD)\n",
    "print(pred.shape, is_impervious.shape)\n",
    "pred[is_impervious, ] = 1\n",
    "\n",
    "output_file = data_folder / f'hybrid_pred_{year}.tif'\n",
    "write_tif(output_file, pred, geotransform, crs)\n"
   ]
  },
  {
   "cell_type": "code",
   "execution_count": null,
   "metadata": {},
   "outputs": [],
   "source": []
  }
 ],
 "metadata": {
  "kernelspec": {
   "display_name": "Python 3",
   "language": "python",
   "name": "python3"
  },
  "language_info": {
   "codemirror_mode": {
    "name": "ipython",
    "version": 3
   },
   "file_extension": ".py",
   "mimetype": "text/x-python",
   "name": "python",
   "nbconvert_exporter": "python",
   "pygments_lexer": "ipython3",
   "version": "3.7.6"
  }
 },
 "nbformat": 4,
 "nbformat_minor": 4
}
